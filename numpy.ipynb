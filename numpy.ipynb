{
  "nbformat": 4,
  "nbformat_minor": 0,
  "metadata": {
    "colab": {
      "name": "numpy.ipynb",
      "provenance": [],
      "authorship_tag": "ABX9TyNMD8cqyUT6TNrBXFM/i70t",
      "include_colab_link": true
    },
    "kernelspec": {
      "name": "python3",
      "display_name": "Python 3"
    }
  },
  "cells": [
    {
      "cell_type": "markdown",
      "metadata": {
        "id": "view-in-github",
        "colab_type": "text"
      },
      "source": [
        "<a href=\"https://colab.research.google.com/github/hanyeh00/Python---Object-Oriented/blob/master/numpy.ipynb\" target=\"_parent\"><img src=\"https://colab.research.google.com/assets/colab-badge.svg\" alt=\"Open In Colab\"/></a>"
      ]
    },
    {
      "cell_type": "markdown",
      "metadata": {
        "id": "Mjz0R2nt20Xa",
        "colab_type": "text"
      },
      "source": [
        "**#difference between dictionart and numpy**"
      ]
    },
    {
      "cell_type": "code",
      "metadata": {
        "id": "zppSKEMw2qMr",
        "colab_type": "code",
        "colab": {
          "base_uri": "https://localhost:8080/",
          "height": 54
        },
        "outputId": "af7dafb7-ca05-484c-e514-cce90bfaa9a6"
      },
      "source": [
        "import pandas as pd\n",
        "\n",
        "\n",
        "labels = ['a', 'b', 'c']\n",
        "lists = [10, 20, 30]\n",
        "dictionaryy = {'a':10,'b':20,'c':30}\n",
        "pandam=pd.Series(data=[10,20,30], index=labels)\n",
        "print(pandam['a'])\n",
        "print(dictionaryy['a'])\n"
      ],
      "execution_count": 10,
      "outputs": [
        {
          "output_type": "stream",
          "text": [
            "10\n",
            "10\n"
          ],
          "name": "stdout"
        }
      ]
    }
  ]
}
{
  "nbformat": 4,
  "nbformat_minor": 0,
  "metadata": {
    "colab": {
      "name": "Hands-On Machine Learning.ipynb",
      "provenance": [],
      "authorship_tag": "ABX9TyN8ItPPMhTaL1LkvCtrYVF4",
      "include_colab_link": true
    },
    "kernelspec": {
      "name": "python3",
      "display_name": "Python 3"
    }
  },
  "cells": [
    {
      "cell_type": "markdown",
      "metadata": {
        "id": "view-in-github",
        "colab_type": "text"
      },
      "source": [
        "<a href=\"https://colab.research.google.com/github/hanyeh00/Python---Object-Oriented/blob/master/Hands_On_Machine_Learning.ipynb\" target=\"_parent\"><img src=\"https://colab.research.google.com/assets/colab-badge.svg\" alt=\"Open In Colab\"/></a>"
      ]
    },
    {
      "cell_type": "code",
      "metadata": {
        "id": "n5YPVsobCZGt",
        "colab": {
          "base_uri": "https://localhost:8080/"
        },
        "outputId": "8cbaf1d4-14bc-4748-d997-02a9ddb4a49a"
      },
      "source": [
        "print('hello world') "
      ],
      "execution_count": null,
      "outputs": [
        {
          "output_type": "stream",
          "text": [
            "hello world\n"
          ],
          "name": "stdout"
        }
      ]
    },
    {
      "cell_type": "markdown",
      "metadata": {
        "id": "pMPURIAHSePq"
      },
      "source": [
        "#learning\n",
        "##how to programming\n",
        "###print\n",
        "\n",
        "\n"
      ]
    },
    {
      "cell_type": "code",
      "metadata": {
        "id": "IpAZaSElS1tK"
      },
      "source": [
        "l=[1,2,3,'f']"
      ],
      "execution_count": null,
      "outputs": []
    },
    {
      "cell_type": "code",
      "metadata": {
        "colab": {
          "base_uri": "https://localhost:8080/"
        },
        "id": "z_A5IawtayzB",
        "outputId": "617f62a7-3c21-4cd5-d88b-2b0d0f318d05"
      },
      "source": [
        "type(l)"
      ],
      "execution_count": null,
      "outputs": [
        {
          "output_type": "execute_result",
          "data": {
            "text/plain": [
              "list"
            ]
          },
          "metadata": {
            "tags": []
          },
          "execution_count": 3
        }
      ]
    },
    {
      "cell_type": "code",
      "metadata": {
        "id": "p8i2R6lxa1Nc"
      },
      "source": [
        "d={'data':4,'float':2.5, 's':\"thisis my first dictionary\"} # dict"
      ],
      "execution_count": null,
      "outputs": []
    },
    {
      "cell_type": "code",
      "metadata": {
        "colab": {
          "base_uri": "https://localhost:8080/"
        },
        "id": "Vtd3HVOha1ap",
        "outputId": "d52f2efc-1e06-4f62-ce61-87a5da8afe49"
      },
      "source": [
        "d['data']"
      ],
      "execution_count": null,
      "outputs": [
        {
          "output_type": "execute_result",
          "data": {
            "text/plain": [
              "4"
            ]
          },
          "metadata": {
            "tags": []
          },
          "execution_count": 6
        }
      ]
    },
    {
      "cell_type": "code",
      "metadata": {
        "id": "wgIPm4DdbMPJ"
      },
      "source": [
        "n=None"
      ],
      "execution_count": null,
      "outputs": []
    },
    {
      "cell_type": "code",
      "metadata": {
        "colab": {
          "base_uri": "https://localhost:8080/"
        },
        "id": "6RCzqwbZbMRY",
        "outputId": "a42bd2bb-4308-4ab5-ffd1-e833e31a0ebc"
      },
      "source": [
        "type(n)"
      ],
      "execution_count": null,
      "outputs": [
        {
          "output_type": "execute_result",
          "data": {
            "text/plain": [
              "NoneType"
            ]
          },
          "metadata": {
            "tags": []
          },
          "execution_count": 9
        }
      ]
    },
    {
      "cell_type": "code",
      "metadata": {
        "colab": {
          "base_uri": "https://localhost:8080/"
        },
        "id": "eM-zecY5bMUx",
        "outputId": "1a3e9aff-3ccf-4254-b7b7-905784ee70eb"
      },
      "source": [
        "f=4.5\n",
        "i=4\n",
        "print('our first value is float {} . our second value is {}'. format(f,i)) \n",
        "\n",
        "print('{} {}'.format(i,f))"
      ],
      "execution_count": null,
      "outputs": [
        {
          "output_type": "stream",
          "text": [
            "our first value is float 4.5 . our second value is 4\n",
            "4 4.5\n"
          ],
          "name": "stdout"
        }
      ]
    },
    {
      "cell_type": "code",
      "metadata": {
        "id": "wPsotPJ0bMm2"
      },
      "source": [
        ""
      ],
      "execution_count": null,
      "outputs": []
    },
    {
      "cell_type": "markdown",
      "metadata": {
        "id": "VsKmpvRWdj-_"
      },
      "source": [
        "#conditional sentences"
      ]
    },
    {
      "cell_type": "code",
      "metadata": {
        "colab": {
          "base_uri": "https://localhost:8080/"
        },
        "id": "QwoL_wZZbMqG",
        "outputId": "aca843f4-4881-43e4-ab17-8792fa6d1364"
      },
      "source": [
        "if f==4.5 and i>4:\n",
        "  print('i') \n",
        "elif f==4 and i>2:\n",
        "  print('{}'.format(i))\n",
        "elif f==4.5 and i>7:\n",
        "  print('{}'.format(f))\n",
        "else:\n",
        "  print('none')"
      ],
      "execution_count": null,
      "outputs": [
        {
          "output_type": "stream",
          "text": [
            "none\n"
          ],
          "name": "stdout"
        }
      ]
    },
    {
      "cell_type": "code",
      "metadata": {
        "colab": {
          "base_uri": "https://localhost:8080/"
        },
        "id": "AnGs4s2ddocZ",
        "outputId": "6ae50886-1b56-47f4-ab45-cd88e943b2e1"
      },
      "source": [
        "l"
      ],
      "execution_count": null,
      "outputs": [
        {
          "output_type": "execute_result",
          "data": {
            "text/plain": [
              "[1, 2, 3, 'f']"
            ]
          },
          "metadata": {
            "tags": []
          },
          "execution_count": 27
        }
      ]
    },
    {
      "cell_type": "code",
      "metadata": {
        "colab": {
          "base_uri": "https://localhost:8080/"
        },
        "id": "evKXve_IdofQ",
        "outputId": "456ba55e-17ef-49d8-f3d4-2123b6dad8ce"
      },
      "source": [
        "for element in l:\n",
        "  print(element)"
      ],
      "execution_count": null,
      "outputs": [
        {
          "output_type": "stream",
          "text": [
            "1\n",
            "2\n",
            "3\n",
            "f\n"
          ],
          "name": "stdout"
        }
      ]
    },
    {
      "cell_type": "code",
      "metadata": {
        "colab": {
          "base_uri": "https://localhost:8080/"
        },
        "id": "e8Ln9w4SdoiQ",
        "outputId": "0d128cd2-bc13-4fa5-a681-1b188c8eba14"
      },
      "source": [
        "counter=6\n",
        "while counter <10:\n",
        "  print(counter)\n",
        "  counter +=1"
      ],
      "execution_count": null,
      "outputs": [
        {
          "output_type": "stream",
          "text": [
            "6\n",
            "7\n",
            "8\n",
            "9\n"
          ],
          "name": "stdout"
        }
      ]
    },
    {
      "cell_type": "code",
      "metadata": {
        "id": "R25rCCHSga2f"
      },
      "source": [
        ""
      ],
      "execution_count": null,
      "outputs": []
    },
    {
      "cell_type": "markdown",
      "metadata": {
        "id": "rW3noGmrg0ZN"
      },
      "source": [
        "#creating function:\n"
      ]
    },
    {
      "cell_type": "code",
      "metadata": {
        "colab": {
          "base_uri": "https://localhost:8080/"
        },
        "id": "yXF3ZP_Yga5T",
        "outputId": "ec3e0ef6-5aa7-4f0b-c0b2-bf435562d0ab"
      },
      "source": [
        "def typeww(x):\n",
        "  if x%2==0:\n",
        "    print(\"x is even\")\n",
        "  else:\n",
        "    print(\"x is odd\")\n",
        "x=14\n",
        "typeww(x)"
      ],
      "execution_count": null,
      "outputs": [
        {
          "output_type": "stream",
          "text": [
            "x is even\n"
          ],
          "name": "stdout"
        }
      ]
    },
    {
      "cell_type": "code",
      "metadata": {
        "colab": {
          "base_uri": "https://localhost:8080/"
        },
        "id": "5oaaebF0ga8h",
        "outputId": "788bc51b-bfc9-4b78-fd23-dcfb789df3c3"
      },
      "source": [
        "def multi(j):\n",
        "  j=j*2\n",
        "  return j\n",
        "\n",
        "print(multi(x))"
      ],
      "execution_count": null,
      "outputs": [
        {
          "output_type": "stream",
          "text": [
            "28\n"
          ],
          "name": "stdout"
        }
      ]
    },
    {
      "cell_type": "code",
      "metadata": {
        "id": "F6tib-G9h6pg"
      },
      "source": [
        "import pandas\n",
        "df = pandas.DataFrame()"
      ],
      "execution_count": null,
      "outputs": []
    },
    {
      "cell_type": "code",
      "metadata": {
        "id": "btu347Yrh6rn"
      },
      "source": [
        ""
      ],
      "execution_count": null,
      "outputs": []
    },
    {
      "cell_type": "markdown",
      "metadata": {
        "id": "noYkeRMrehTl"
      },
      "source": [
        "#**chapter 3**"
      ]
    },
    {
      "cell_type": "code",
      "metadata": {
        "id": "y9cy7IBVh6u4",
        "colab": {
          "base_uri": "https://localhost:8080/"
        },
        "outputId": "7f52d3ea-e533-4115-e849-edb8a27962fc"
      },
      "source": [
        "from sklearn.datasets import fetch_openml\n",
        "mnist = fetch_openml('mnist_784', version=1)\n",
        "mnist.keys()"
      ],
      "execution_count": null,
      "outputs": [
        {
          "output_type": "execute_result",
          "data": {
            "text/plain": [
              "dict_keys(['data', 'target', 'frame', 'feature_names', 'target_names', 'DESCR', 'details', 'categories', 'url'])"
            ]
          },
          "metadata": {
            "tags": []
          },
          "execution_count": 2
        }
      ]
    },
    {
      "cell_type": "code",
      "metadata": {
        "id": "lf7QzVCQfkaO"
      },
      "source": [
        "X,y=mnist['data'],mnist['target']"
      ],
      "execution_count": null,
      "outputs": []
    },
    {
      "cell_type": "code",
      "metadata": {
        "id": "gil83OWufkdA"
      },
      "source": [
        "import matplotlib as mpl\n",
        "import matplotlib.pyplot as plt\n",
        "some_digit = X[23]\n",
        "some_digit_image= some_digit.reshape(28, 28)\n",
        "plt.imshow(some_digit_image ,cmap=mpl.cm.Blues ,interpolation=\"nearest\")# اینجا camp باینری میکند تصویر دست خطو رنگ پس زمینه اش\n",
        "plt.axis(\"off\")# مختصات x و y   نشون نمیده\n",
        "#plt.show()"
      ],
      "execution_count": null,
      "outputs": []
    },
    {
      "cell_type": "code",
      "metadata": {
        "id": "-5zaKUDqfkgK"
      },
      "source": [
        "import matplotlib as pl\n",
        "import matplotlib.pyplot as plt\n",
        "digital = X[23]\n",
        "image1=digital.reshape(28,28)\n",
        "plt.imshow(image1, cmap=pl.cm.binary)\n",
        "plt.axis(\"off\")"
      ],
      "execution_count": null,
      "outputs": []
    },
    {
      "cell_type": "code",
      "metadata": {
        "id": "ZULVEz0vly4Q"
      },
      "source": [
        "import numpy as np\n",
        "y[23]\n",
        "y=y.astype(np.int8)"
      ],
      "execution_count": null,
      "outputs": []
    },
    {
      "cell_type": "code",
      "metadata": {
        "colab": {
          "base_uri": "https://localhost:8080/"
        },
        "id": "6P2pKXlOl2ZL",
        "outputId": "51b1d584-73e3-4ae7-c7ac-d32938fb78b4"
      },
      "source": [
        "type(y)"
      ],
      "execution_count": null,
      "outputs": [
        {
          "output_type": "execute_result",
          "data": {
            "text/plain": [
              "numpy.ndarray"
            ]
          },
          "metadata": {
            "tags": []
          },
          "execution_count": 44
        }
      ]
    },
    {
      "cell_type": "code",
      "metadata": {
        "id": "osN0OduxmKQe"
      },
      "source": [
        ""
      ],
      "execution_count": null,
      "outputs": []
    },
    {
      "cell_type": "code",
      "metadata": {
        "id": "6J-IPHR7mKTT"
      },
      "source": [
        ""
      ],
      "execution_count": null,
      "outputs": []
    },
    {
      "cell_type": "code",
      "metadata": {
        "id": "U4KmIT84mKWe"
      },
      "source": [
        ""
      ],
      "execution_count": null,
      "outputs": []
    }
  ]
}
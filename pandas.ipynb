{
  "nbformat": 4,
  "nbformat_minor": 0,
  "metadata": {
    "colab": {
      "name": "pandas.ipynb",
      "provenance": [],
      "authorship_tag": "ABX9TyPCgkpaK/aOBblQ9CoqKcuC",
      "include_colab_link": true
    },
    "kernelspec": {
      "name": "python3",
      "display_name": "Python 3"
    }
  },
  "cells": [
    {
      "cell_type": "markdown",
      "metadata": {
        "id": "view-in-github",
        "colab_type": "text"
      },
      "source": [
        "<a href=\"https://colab.research.google.com/github/hanyeh00/Python---Object-Oriented/blob/master/pandas.ipynb\" target=\"_parent\"><img src=\"https://colab.research.google.com/assets/colab-badge.svg\" alt=\"Open In Colab\"/></a>"
      ]
    },
    {
      "cell_type": "markdown",
      "metadata": {
        "id": "nGVcsUm25rZn",
        "colab_type": "text"
      },
      "source": [
        "pd.Series:\n",
        "**bold text**\n",
        "\n",
        "# Series\n",
        "Series is a one-dimensional labeled array capable of holding any data type (integers, strings, floating point numbers, Python objects, etc.) labels (including time series)\n",
        "Labels need not be unique but must be a hashable type. The object supports both integer- and label-based indexing and provides a host of methods for performing operations involving the index. "
      ]
    },
    {
      "cell_type": "markdown",
      "metadata": {
        "id": "Mjz0R2nt20Xa",
        "colab_type": "text"
      },
      "source": [
        "**#difference between dictionart and numpy**"
      ]
    },
    {
      "cell_type": "code",
      "metadata": {
        "id": "zppSKEMw2qMr",
        "colab_type": "code",
        "colab": {
          "base_uri": "https://localhost:8080/",
          "height": 54
        },
        "outputId": "ffc7eb73-c224-4d6d-81d8-992f54702433"
      },
      "source": [
        "import pandas as pd\n",
        "\n",
        "\n",
        "labels = ['a', 'b', 'c']\n",
        "lists = [10, 20, 30]\n",
        "dictionaryy = {'a':10,'b':20,'c':30}\n",
        "pandam=pd.Series(data=[10,20,30], index=labels)\n",
        "print(pandam['a'])\n",
        "print(dictionaryy['a'])\n"
      ],
      "execution_count": 80,
      "outputs": [
        {
          "output_type": "stream",
          "text": [
            "10\n",
            "10\n"
          ],
          "name": "stdout"
        }
      ]
    },
    {
      "cell_type": "code",
      "metadata": {
        "id": "w6cMppv_4iID",
        "colab_type": "code",
        "colab": {
          "base_uri": "https://localhost:8080/",
          "height": 91
        },
        "outputId": "77e8b282-5282-4f30-820e-7217e2fe3b17"
      },
      "source": [
        "#step2:\n",
        "import pandas as pd\n",
        "\n",
        "\n",
        "labels = ['a', 'b', 'c']\n",
        "lists = [10, 20, 30]\n",
        "dictionaryy = {'a':10,'b':20,'c':30}\n",
        "pandam=pd.Series(data=lists, index=labels,dtype='int16')\n",
        "print(pandam)\n",
        "#p2=pd.Series(data=[10,40,30], index=['a','c','d'],dtype='int16')\n",
        "#p2+pandam"
      ],
      "execution_count": 82,
      "outputs": [
        {
          "output_type": "stream",
          "text": [
            "a    10\n",
            "b    20\n",
            "c    30\n",
            "dtype: int16\n"
          ],
          "name": "stdout"
        }
      ]
    },
    {
      "cell_type": "markdown",
      "metadata": {
        "id": "x0lM8YynArli",
        "colab_type": "text"
      },
      "source": [
        "\n",
        "\n",
        "```\n",
        "**# DataFrame**\n",
        "\n",
        "Two-dimensional, size-mutable, potentially heterogeneous tabular data.\n",
        "\n",
        "Data structure also contains labeled axes (rows and columns).\n",
        "\n",
        "```\n",
        "\n"
      ]
    },
    {
      "cell_type": "code",
      "metadata": {
        "id": "n_WQsLKT7dtw",
        "colab_type": "code",
        "colab": {
          "base_uri": "https://localhost:8080/",
          "height": 109
        },
        "outputId": "d3796a7e-1a89-4cf5-d81d-96c2aa631f44"
      },
      "source": [
        "#step3\n",
        "#data frame panda\n",
        "import pandas as pd\n",
        "import numpy as np\n",
        "from numpy.random import randn\n",
        "bb=np.random.seed(101)\n",
        "rand_mat=randn(5,4)\n",
        "print(rand_mat)\n"
      ],
      "execution_count": 83,
      "outputs": [
        {
          "output_type": "stream",
          "text": [
            "[[ 2.70684984  0.62813271  0.90796945  0.50382575]\n",
            " [ 0.65111795 -0.31931804 -0.84807698  0.60596535]\n",
            " [-2.01816824  0.74012206  0.52881349 -0.58900053]\n",
            " [ 0.18869531 -0.75887206 -0.93323722  0.95505651]\n",
            " [ 0.19079432  1.97875732  2.60596728  0.68350889]]\n"
          ],
          "name": "stdout"
        }
      ]
    },
    {
      "cell_type": "code",
      "metadata": {
        "id": "60BO_BD--qCm",
        "colab_type": "code",
        "colab": {
          "base_uri": "https://localhost:8080/",
          "height": 128
        },
        "outputId": "2e37cad1-db98-4a28-cd6b-08f52e74bd3e"
      },
      "source": [
        "df=pd.DataFrame(data=rand_mat,index=['a','b','c','d','f'],columns=['income1','income2','income3','incom4'])\n",
        "print(df)"
      ],
      "execution_count": 84,
      "outputs": [
        {
          "output_type": "stream",
          "text": [
            "    income1   income2   income3    incom4\n",
            "a  2.706850  0.628133  0.907969  0.503826\n",
            "b  0.651118 -0.319318 -0.848077  0.605965\n",
            "c -2.018168  0.740122  0.528813 -0.589001\n",
            "d  0.188695 -0.758872 -0.933237  0.955057\n",
            "f  0.190794  1.978757  2.605967  0.683509\n"
          ],
          "name": "stdout"
        }
      ]
    },
    {
      "cell_type": "code",
      "metadata": {
        "id": "Hb0uApfp_lhL",
        "colab_type": "code",
        "colab": {
          "base_uri": "https://localhost:8080/",
          "height": 35
        },
        "outputId": "46b1115f-d7de-4b4c-8f8e-1aac204ddcee"
      },
      "source": [
        "type(df['income1'])"
      ],
      "execution_count": 85,
      "outputs": [
        {
          "output_type": "execute_result",
          "data": {
            "text/plain": [
              "pandas.core.series.Series"
            ]
          },
          "metadata": {
            "tags": []
          },
          "execution_count": 85
        }
      ]
    },
    {
      "cell_type": "code",
      "metadata": {
        "id": "bwrYX_9l_xbJ",
        "colab_type": "code",
        "colab": {
          "base_uri": "https://localhost:8080/",
          "height": 128
        },
        "outputId": "96d4a5f7-b265-46d8-a85a-5717417dee2a"
      },
      "source": [
        "df['income1']"
      ],
      "execution_count": 86,
      "outputs": [
        {
          "output_type": "execute_result",
          "data": {
            "text/plain": [
              "a    2.706850\n",
              "b    0.651118\n",
              "c   -2.018168\n",
              "d    0.188695\n",
              "f    0.190794\n",
              "Name: income1, dtype: float64"
            ]
          },
          "metadata": {
            "tags": []
          },
          "execution_count": 86
        }
      ]
    },
    {
      "cell_type": "code",
      "metadata": {
        "id": "pB6OMfBYRfqZ",
        "colab_type": "code",
        "colab": {}
      },
      "source": [
        ""
      ],
      "execution_count": null,
      "outputs": []
    },
    {
      "cell_type": "code",
      "metadata": {
        "id": "uhRgJV46_4zN",
        "colab_type": "code",
        "colab": {
          "base_uri": "https://localhost:8080/",
          "height": 206
        },
        "outputId": "e081493e-45b3-42c9-e7bf-ac26c040f4ce"
      },
      "source": [
        "df[['income1','income2']]"
      ],
      "execution_count": null,
      "outputs": [
        {
          "output_type": "execute_result",
          "data": {
            "text/html": [
              "<div>\n",
              "<style scoped>\n",
              "    .dataframe tbody tr th:only-of-type {\n",
              "        vertical-align: middle;\n",
              "    }\n",
              "\n",
              "    .dataframe tbody tr th {\n",
              "        vertical-align: top;\n",
              "    }\n",
              "\n",
              "    .dataframe thead th {\n",
              "        text-align: right;\n",
              "    }\n",
              "</style>\n",
              "<table border=\"1\" class=\"dataframe\">\n",
              "  <thead>\n",
              "    <tr style=\"text-align: right;\">\n",
              "      <th></th>\n",
              "      <th>income1</th>\n",
              "      <th>income2</th>\n",
              "    </tr>\n",
              "  </thead>\n",
              "  <tbody>\n",
              "    <tr>\n",
              "      <th>a</th>\n",
              "      <td>2.706850</td>\n",
              "      <td>0.628133</td>\n",
              "    </tr>\n",
              "    <tr>\n",
              "      <th>b</th>\n",
              "      <td>0.651118</td>\n",
              "      <td>-0.319318</td>\n",
              "    </tr>\n",
              "    <tr>\n",
              "      <th>c</th>\n",
              "      <td>-2.018168</td>\n",
              "      <td>0.740122</td>\n",
              "    </tr>\n",
              "    <tr>\n",
              "      <th>d</th>\n",
              "      <td>0.188695</td>\n",
              "      <td>-0.758872</td>\n",
              "    </tr>\n",
              "    <tr>\n",
              "      <th>f</th>\n",
              "      <td>0.190794</td>\n",
              "      <td>1.978757</td>\n",
              "    </tr>\n",
              "  </tbody>\n",
              "</table>\n",
              "</div>"
            ],
            "text/plain": [
              "    income1   income2\n",
              "a  2.706850  0.628133\n",
              "b  0.651118 -0.319318\n",
              "c -2.018168  0.740122\n",
              "d  0.188695 -0.758872\n",
              "f  0.190794  1.978757"
            ]
          },
          "metadata": {
            "tags": []
          },
          "execution_count": 38
        }
      ]
    },
    {
      "cell_type": "code",
      "metadata": {
        "id": "r2xBi5TvAaAV",
        "colab_type": "code",
        "colab": {
          "base_uri": "https://localhost:8080/",
          "height": 128
        },
        "outputId": "493d351e-6dd1-44d6-ae60-25a1b11864f9"
      },
      "source": [
        "r=df['sum']=(df['income1']+df['income2'])\n",
        "print(df)"
      ],
      "execution_count": null,
      "outputs": [
        {
          "output_type": "stream",
          "text": [
            "    income1   income2   income3    incom4       sum\n",
            "a  2.706850  0.628133  0.907969  0.503826  3.334983\n",
            "b  0.651118 -0.319318 -0.848077  0.605965  0.331800\n",
            "c -2.018168  0.740122  0.528813 -0.589001 -1.278046\n",
            "d  0.188695 -0.758872 -0.933237  0.955057 -0.570177\n",
            "f  0.190794  1.978757  2.605967  0.683509  2.169552\n"
          ],
          "name": "stdout"
        }
      ]
    },
    {
      "cell_type": "code",
      "metadata": {
        "id": "3X2PR6eq_5M1",
        "colab_type": "code",
        "colab": {}
      },
      "source": [
        "df.drop('sum',axis=1,inplace=True)"
      ],
      "execution_count": null,
      "outputs": []
    },
    {
      "cell_type": "code",
      "metadata": {
        "id": "y2SUc9VXCaJL",
        "colab_type": "code",
        "colab": {}
      },
      "source": [
        "#rows\n",
        "df.drop('a',inplace=True)"
      ],
      "execution_count": null,
      "outputs": []
    },
    {
      "cell_type": "code",
      "metadata": {
        "id": "2kO88Q1vCaLy",
        "colab_type": "code",
        "colab": {}
      },
      "source": [
        ""
      ],
      "execution_count": null,
      "outputs": []
    },
    {
      "cell_type": "code",
      "metadata": {
        "id": "BGwBB6vCCaO_",
        "colab_type": "code",
        "colab": {
          "base_uri": "https://localhost:8080/",
          "height": 109
        },
        "outputId": "3b52eb5e-e60c-43c7-b9f2-e64dafbd1534"
      },
      "source": [
        "df.loc['b']"
      ],
      "execution_count": null,
      "outputs": [
        {
          "output_type": "execute_result",
          "data": {
            "text/plain": [
              "income1    0.651118\n",
              "income2   -0.319318\n",
              "income3   -0.848077\n",
              "incom4     0.605965\n",
              "Name: b, dtype: float64"
            ]
          },
          "metadata": {
            "tags": []
          },
          "execution_count": 71
        }
      ]
    },
    {
      "cell_type": "code",
      "metadata": {
        "id": "X8U0n64sEgyx",
        "colab_type": "code",
        "colab": {
          "base_uri": "https://localhost:8080/",
          "height": 72
        },
        "outputId": "39ce31f9-b450-44cb-d782-d9c490068574"
      },
      "source": [
        "df.iloc[[0,1]]['income1'] # stand for integer location"
      ],
      "execution_count": null,
      "outputs": [
        {
          "output_type": "execute_result",
          "data": {
            "text/plain": [
              "b    0.651118\n",
              "c   -2.018168\n",
              "Name: income1, dtype: float64"
            ]
          },
          "metadata": {
            "tags": []
          },
          "execution_count": 79
        }
      ]
    },
    {
      "cell_type": "code",
      "metadata": {
        "id": "xJMo51ojEg1z",
        "colab_type": "code",
        "colab": {
          "base_uri": "https://localhost:8080/",
          "height": 300
        },
        "outputId": "40f1ecb1-2d4f-4e62-96bf-43af67b69339"
      },
      "source": [
        "df.describe()"
      ],
      "execution_count": 90,
      "outputs": [
        {
          "output_type": "execute_result",
          "data": {
            "text/html": [
              "<div>\n",
              "<style scoped>\n",
              "    .dataframe tbody tr th:only-of-type {\n",
              "        vertical-align: middle;\n",
              "    }\n",
              "\n",
              "    .dataframe tbody tr th {\n",
              "        vertical-align: top;\n",
              "    }\n",
              "\n",
              "    .dataframe thead th {\n",
              "        text-align: right;\n",
              "    }\n",
              "</style>\n",
              "<table border=\"1\" class=\"dataframe\">\n",
              "  <thead>\n",
              "    <tr style=\"text-align: right;\">\n",
              "      <th></th>\n",
              "      <th>income1</th>\n",
              "      <th>income2</th>\n",
              "      <th>income3</th>\n",
              "      <th>incom4</th>\n",
              "    </tr>\n",
              "  </thead>\n",
              "  <tbody>\n",
              "    <tr>\n",
              "      <th>count</th>\n",
              "      <td>5.000000</td>\n",
              "      <td>5.000000</td>\n",
              "      <td>5.000000</td>\n",
              "      <td>5.000000</td>\n",
              "    </tr>\n",
              "    <tr>\n",
              "      <th>mean</th>\n",
              "      <td>0.343858</td>\n",
              "      <td>0.453764</td>\n",
              "      <td>0.452287</td>\n",
              "      <td>0.431871</td>\n",
              "    </tr>\n",
              "    <tr>\n",
              "      <th>std</th>\n",
              "      <td>1.681131</td>\n",
              "      <td>1.061385</td>\n",
              "      <td>1.454516</td>\n",
              "      <td>0.594708</td>\n",
              "    </tr>\n",
              "    <tr>\n",
              "      <th>min</th>\n",
              "      <td>-2.018168</td>\n",
              "      <td>-0.758872</td>\n",
              "      <td>-0.933237</td>\n",
              "      <td>-0.589001</td>\n",
              "    </tr>\n",
              "    <tr>\n",
              "      <th>25%</th>\n",
              "      <td>0.188695</td>\n",
              "      <td>-0.319318</td>\n",
              "      <td>-0.848077</td>\n",
              "      <td>0.503826</td>\n",
              "    </tr>\n",
              "    <tr>\n",
              "      <th>50%</th>\n",
              "      <td>0.190794</td>\n",
              "      <td>0.628133</td>\n",
              "      <td>0.528813</td>\n",
              "      <td>0.605965</td>\n",
              "    </tr>\n",
              "    <tr>\n",
              "      <th>75%</th>\n",
              "      <td>0.651118</td>\n",
              "      <td>0.740122</td>\n",
              "      <td>0.907969</td>\n",
              "      <td>0.683509</td>\n",
              "    </tr>\n",
              "    <tr>\n",
              "      <th>max</th>\n",
              "      <td>2.706850</td>\n",
              "      <td>1.978757</td>\n",
              "      <td>2.605967</td>\n",
              "      <td>0.955057</td>\n",
              "    </tr>\n",
              "  </tbody>\n",
              "</table>\n",
              "</div>"
            ],
            "text/plain": [
              "        income1   income2   income3    incom4\n",
              "count  5.000000  5.000000  5.000000  5.000000\n",
              "mean   0.343858  0.453764  0.452287  0.431871\n",
              "std    1.681131  1.061385  1.454516  0.594708\n",
              "min   -2.018168 -0.758872 -0.933237 -0.589001\n",
              "25%    0.188695 -0.319318 -0.848077  0.503826\n",
              "50%    0.190794  0.628133  0.528813  0.605965\n",
              "75%    0.651118  0.740122  0.907969  0.683509\n",
              "max    2.706850  1.978757  2.605967  0.955057"
            ]
          },
          "metadata": {
            "tags": []
          },
          "execution_count": 90
        }
      ]
    },
    {
      "cell_type": "code",
      "metadata": {
        "id": "dnX4qdBWEg5H",
        "colab_type": "code",
        "colab": {}
      },
      "source": [
        ""
      ],
      "execution_count": null,
      "outputs": []
    },
    {
      "cell_type": "markdown",
      "metadata": {
        "id": "WQNDA1g4SceW",
        "colab_type": "text"
      },
      "source": [
        "# group by operation\n",
        ".groupby()\n",
        "![image.png](data:image/png;base64,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)"
      ]
    },
    {
      "cell_type": "code",
      "metadata": {
        "id": "vJYvs7RKTpXY",
        "colab_type": "code",
        "colab": {}
      },
      "source": [
        "import pandas as pd\n",
        "data={'company':['good','bad','bad','med'],'person':['Joe','fee','lee','sara'],'code':[200,150,100,150]}\n",
        "df=pd.DataFrame(data)"
      ],
      "execution_count": 96,
      "outputs": []
    },
    {
      "cell_type": "code",
      "metadata": {
        "id": "22vzQJffTCVN",
        "colab_type": "code",
        "colab": {
          "base_uri": "https://localhost:8080/",
          "height": 175
        },
        "outputId": "f3dd8f1f-6ea2-4c4e-9a87-31901a281cf0"
      },
      "source": [
        "df.groupby('company').sum()"
      ],
      "execution_count": 99,
      "outputs": [
        {
          "output_type": "execute_result",
          "data": {
            "text/html": [
              "<div>\n",
              "<style scoped>\n",
              "    .dataframe tbody tr th:only-of-type {\n",
              "        vertical-align: middle;\n",
              "    }\n",
              "\n",
              "    .dataframe tbody tr th {\n",
              "        vertical-align: top;\n",
              "    }\n",
              "\n",
              "    .dataframe thead th {\n",
              "        text-align: right;\n",
              "    }\n",
              "</style>\n",
              "<table border=\"1\" class=\"dataframe\">\n",
              "  <thead>\n",
              "    <tr style=\"text-align: right;\">\n",
              "      <th></th>\n",
              "      <th>code</th>\n",
              "    </tr>\n",
              "    <tr>\n",
              "      <th>company</th>\n",
              "      <th></th>\n",
              "    </tr>\n",
              "  </thead>\n",
              "  <tbody>\n",
              "    <tr>\n",
              "      <th>bad</th>\n",
              "      <td>250</td>\n",
              "    </tr>\n",
              "    <tr>\n",
              "      <th>good</th>\n",
              "      <td>200</td>\n",
              "    </tr>\n",
              "    <tr>\n",
              "      <th>med</th>\n",
              "      <td>150</td>\n",
              "    </tr>\n",
              "  </tbody>\n",
              "</table>\n",
              "</div>"
            ],
            "text/plain": [
              "         code\n",
              "company      \n",
              "bad       250\n",
              "good      200\n",
              "med       150"
            ]
          },
          "metadata": {
            "tags": []
          },
          "execution_count": 99
        }
      ]
    },
    {
      "cell_type": "code",
      "metadata": {
        "id": "7EV14ehTXcMV",
        "colab_type": "code",
        "colab": {
          "base_uri": "https://localhost:8080/",
          "height": 206
        },
        "outputId": "5d903126-1b6c-4016-fe21-cd5f54262e27"
      },
      "source": [
        "df.groupby('company').describe()"
      ],
      "execution_count": 100,
      "outputs": [
        {
          "output_type": "execute_result",
          "data": {
            "text/html": [
              "<div>\n",
              "<style scoped>\n",
              "    .dataframe tbody tr th:only-of-type {\n",
              "        vertical-align: middle;\n",
              "    }\n",
              "\n",
              "    .dataframe tbody tr th {\n",
              "        vertical-align: top;\n",
              "    }\n",
              "\n",
              "    .dataframe thead tr th {\n",
              "        text-align: left;\n",
              "    }\n",
              "\n",
              "    .dataframe thead tr:last-of-type th {\n",
              "        text-align: right;\n",
              "    }\n",
              "</style>\n",
              "<table border=\"1\" class=\"dataframe\">\n",
              "  <thead>\n",
              "    <tr>\n",
              "      <th></th>\n",
              "      <th colspan=\"8\" halign=\"left\">code</th>\n",
              "    </tr>\n",
              "    <tr>\n",
              "      <th></th>\n",
              "      <th>count</th>\n",
              "      <th>mean</th>\n",
              "      <th>std</th>\n",
              "      <th>min</th>\n",
              "      <th>25%</th>\n",
              "      <th>50%</th>\n",
              "      <th>75%</th>\n",
              "      <th>max</th>\n",
              "    </tr>\n",
              "    <tr>\n",
              "      <th>company</th>\n",
              "      <th></th>\n",
              "      <th></th>\n",
              "      <th></th>\n",
              "      <th></th>\n",
              "      <th></th>\n",
              "      <th></th>\n",
              "      <th></th>\n",
              "      <th></th>\n",
              "    </tr>\n",
              "  </thead>\n",
              "  <tbody>\n",
              "    <tr>\n",
              "      <th>bad</th>\n",
              "      <td>2.0</td>\n",
              "      <td>125.0</td>\n",
              "      <td>35.355339</td>\n",
              "      <td>100.0</td>\n",
              "      <td>112.5</td>\n",
              "      <td>125.0</td>\n",
              "      <td>137.5</td>\n",
              "      <td>150.0</td>\n",
              "    </tr>\n",
              "    <tr>\n",
              "      <th>good</th>\n",
              "      <td>1.0</td>\n",
              "      <td>200.0</td>\n",
              "      <td>NaN</td>\n",
              "      <td>200.0</td>\n",
              "      <td>200.0</td>\n",
              "      <td>200.0</td>\n",
              "      <td>200.0</td>\n",
              "      <td>200.0</td>\n",
              "    </tr>\n",
              "    <tr>\n",
              "      <th>med</th>\n",
              "      <td>1.0</td>\n",
              "      <td>150.0</td>\n",
              "      <td>NaN</td>\n",
              "      <td>150.0</td>\n",
              "      <td>150.0</td>\n",
              "      <td>150.0</td>\n",
              "      <td>150.0</td>\n",
              "      <td>150.0</td>\n",
              "    </tr>\n",
              "  </tbody>\n",
              "</table>\n",
              "</div>"
            ],
            "text/plain": [
              "         code                                                     \n",
              "        count   mean        std    min    25%    50%    75%    max\n",
              "company                                                           \n",
              "bad       2.0  125.0  35.355339  100.0  112.5  125.0  137.5  150.0\n",
              "good      1.0  200.0        NaN  200.0  200.0  200.0  200.0  200.0\n",
              "med       1.0  150.0        NaN  150.0  150.0  150.0  150.0  150.0"
            ]
          },
          "metadata": {
            "tags": []
          },
          "execution_count": 100
        }
      ]
    },
    {
      "cell_type": "code",
      "metadata": {
        "id": "jfHlCCZ4YNAo",
        "colab_type": "code",
        "colab": {
          "base_uri": "https://localhost:8080/",
          "height": 300
        },
        "outputId": "5578a7e2-a1ea-4e9e-f975-1f55d11246d8"
      },
      "source": [
        "df.groupby('company').describe().transpose()"
      ],
      "execution_count": 101,
      "outputs": [
        {
          "output_type": "execute_result",
          "data": {
            "text/html": [
              "<div>\n",
              "<style scoped>\n",
              "    .dataframe tbody tr th:only-of-type {\n",
              "        vertical-align: middle;\n",
              "    }\n",
              "\n",
              "    .dataframe tbody tr th {\n",
              "        vertical-align: top;\n",
              "    }\n",
              "\n",
              "    .dataframe thead th {\n",
              "        text-align: right;\n",
              "    }\n",
              "</style>\n",
              "<table border=\"1\" class=\"dataframe\">\n",
              "  <thead>\n",
              "    <tr style=\"text-align: right;\">\n",
              "      <th></th>\n",
              "      <th>company</th>\n",
              "      <th>bad</th>\n",
              "      <th>good</th>\n",
              "      <th>med</th>\n",
              "    </tr>\n",
              "  </thead>\n",
              "  <tbody>\n",
              "    <tr>\n",
              "      <th rowspan=\"8\" valign=\"top\">code</th>\n",
              "      <th>count</th>\n",
              "      <td>2.000000</td>\n",
              "      <td>1.0</td>\n",
              "      <td>1.0</td>\n",
              "    </tr>\n",
              "    <tr>\n",
              "      <th>mean</th>\n",
              "      <td>125.000000</td>\n",
              "      <td>200.0</td>\n",
              "      <td>150.0</td>\n",
              "    </tr>\n",
              "    <tr>\n",
              "      <th>std</th>\n",
              "      <td>35.355339</td>\n",
              "      <td>NaN</td>\n",
              "      <td>NaN</td>\n",
              "    </tr>\n",
              "    <tr>\n",
              "      <th>min</th>\n",
              "      <td>100.000000</td>\n",
              "      <td>200.0</td>\n",
              "      <td>150.0</td>\n",
              "    </tr>\n",
              "    <tr>\n",
              "      <th>25%</th>\n",
              "      <td>112.500000</td>\n",
              "      <td>200.0</td>\n",
              "      <td>150.0</td>\n",
              "    </tr>\n",
              "    <tr>\n",
              "      <th>50%</th>\n",
              "      <td>125.000000</td>\n",
              "      <td>200.0</td>\n",
              "      <td>150.0</td>\n",
              "    </tr>\n",
              "    <tr>\n",
              "      <th>75%</th>\n",
              "      <td>137.500000</td>\n",
              "      <td>200.0</td>\n",
              "      <td>150.0</td>\n",
              "    </tr>\n",
              "    <tr>\n",
              "      <th>max</th>\n",
              "      <td>150.000000</td>\n",
              "      <td>200.0</td>\n",
              "      <td>150.0</td>\n",
              "    </tr>\n",
              "  </tbody>\n",
              "</table>\n",
              "</div>"
            ],
            "text/plain": [
              "company            bad   good    med\n",
              "code count    2.000000    1.0    1.0\n",
              "     mean   125.000000  200.0  150.0\n",
              "     std     35.355339    NaN    NaN\n",
              "     min    100.000000  200.0  150.0\n",
              "     25%    112.500000  200.0  150.0\n",
              "     50%    125.000000  200.0  150.0\n",
              "     75%    137.500000  200.0  150.0\n",
              "     max    150.000000  200.0  150.0"
            ]
          },
          "metadata": {
            "tags": []
          },
          "execution_count": 101
        }
      ]
    },
    {
      "cell_type": "code",
      "metadata": {
        "id": "78SZItd-XchV",
        "colab_type": "code",
        "colab": {
          "base_uri": "https://localhost:8080/",
          "height": 144
        },
        "outputId": "580a025a-f6ba-4133-a89d-fab804c8a1f0"
      },
      "source": [
        "import pandas as pd\n",
        "df=pd.DataFrame({'col1':[1,2,3],'col2':[10,20,30],'col3':[11,12,14]})\n",
        "df.head()"
      ],
      "execution_count": 103,
      "outputs": [
        {
          "output_type": "execute_result",
          "data": {
            "text/html": [
              "<div>\n",
              "<style scoped>\n",
              "    .dataframe tbody tr th:only-of-type {\n",
              "        vertical-align: middle;\n",
              "    }\n",
              "\n",
              "    .dataframe tbody tr th {\n",
              "        vertical-align: top;\n",
              "    }\n",
              "\n",
              "    .dataframe thead th {\n",
              "        text-align: right;\n",
              "    }\n",
              "</style>\n",
              "<table border=\"1\" class=\"dataframe\">\n",
              "  <thead>\n",
              "    <tr style=\"text-align: right;\">\n",
              "      <th></th>\n",
              "      <th>col1</th>\n",
              "      <th>col2</th>\n",
              "      <th>col3</th>\n",
              "    </tr>\n",
              "  </thead>\n",
              "  <tbody>\n",
              "    <tr>\n",
              "      <th>0</th>\n",
              "      <td>1</td>\n",
              "      <td>10</td>\n",
              "      <td>11</td>\n",
              "    </tr>\n",
              "    <tr>\n",
              "      <th>1</th>\n",
              "      <td>2</td>\n",
              "      <td>20</td>\n",
              "      <td>12</td>\n",
              "    </tr>\n",
              "    <tr>\n",
              "      <th>2</th>\n",
              "      <td>3</td>\n",
              "      <td>30</td>\n",
              "      <td>14</td>\n",
              "    </tr>\n",
              "  </tbody>\n",
              "</table>\n",
              "</div>"
            ],
            "text/plain": [
              "   col1  col2  col3\n",
              "0     1    10    11\n",
              "1     2    20    12\n",
              "2     3    30    14"
            ]
          },
          "metadata": {
            "tags": []
          },
          "execution_count": 103
        }
      ]
    },
    {
      "cell_type": "code",
      "metadata": {
        "id": "1PG-p-iGXcj3",
        "colab_type": "code",
        "colab": {}
      },
      "source": [
        ""
      ],
      "execution_count": null,
      "outputs": []
    },
    {
      "cell_type": "code",
      "metadata": {
        "id": "kH3EUZVwXcnK",
        "colab_type": "code",
        "colab": {}
      },
      "source": [
        ""
      ],
      "execution_count": null,
      "outputs": []
    }
  ]
}